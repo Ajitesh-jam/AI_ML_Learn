{
 "cells": [
  {
   "cell_type": "code",
   "execution_count": 3,
   "id": "5922323c",
   "metadata": {},
   "outputs": [
    {
     "name": "stdout",
     "output_type": "stream",
     "text": [
      "Running CPU vs GPU benchmark...\n",
      "\n",
      "/CPU:0 -> Time: 203.83s, Final Acc: 0.1020\n",
      "/GPU:0 -> Time: 30.59s, Final Acc: 0.1003\n"
     ]
    }
   ],
   "source": [
    "import tensorflow as tf\n",
    "import time\n",
    "import numpy as np\n",
    "\n",
    "# Force reproducibility\n",
    "tf.random.set_seed(42)\n",
    "np.random.seed(42)\n",
    "\n",
    "# Create synthetic image data (like CIFAR-10 but larger)\n",
    "num_samples = 20000\n",
    "img_height, img_width, channels = 64, 64, 3\n",
    "num_classes = 10\n",
    "\n",
    "X = np.random.rand(num_samples, img_height, img_width, channels).astype(np.float32)\n",
    "y = np.random.randint(0, num_classes, size=(num_samples,))\n",
    "y = tf.keras.utils.to_categorical(y, num_classes)\n",
    "\n",
    "# Build a bigger CNN model\n",
    "def create_model():\n",
    "    model = tf.keras.Sequential([\n",
    "        tf.keras.layers.Conv2D(64, (3,3), activation=\"relu\", input_shape=(img_height, img_width, channels)),\n",
    "        tf.keras.layers.Conv2D(64, (3,3), activation=\"relu\"),\n",
    "        tf.keras.layers.MaxPooling2D(),\n",
    "        tf.keras.layers.Conv2D(128, (3,3), activation=\"relu\"),\n",
    "        tf.keras.layers.Conv2D(128, (3,3), activation=\"relu\"),\n",
    "        tf.keras.layers.MaxPooling2D(),\n",
    "        tf.keras.layers.Flatten(),\n",
    "        tf.keras.layers.Dense(512, activation=\"relu\"),\n",
    "        tf.keras.layers.Dense(num_classes, activation=\"softmax\"),\n",
    "    ])\n",
    "    model.compile(optimizer=\"adam\", loss=\"categorical_crossentropy\", metrics=[\"accuracy\"])\n",
    "    return model\n",
    "\n",
    "# Training function\n",
    "def benchmark(device_name, epochs=3):\n",
    "    with tf.device(device_name):\n",
    "        model = create_model()\n",
    "        start = time.time()\n",
    "        history = model.fit(X, y, batch_size=128, epochs=epochs, verbose=0)\n",
    "        end = time.time()\n",
    "    print(f\"{device_name} -> Time: {end-start:.2f}s, Final Acc: {history.history['accuracy'][-1]:.4f}\")\n",
    "\n",
    "# Run benchmarks\n",
    "print(\"Running CPU vs GPU benchmark...\\n\")\n",
    "benchmark(\"/CPU:0\", epochs=3)\n",
    "benchmark(\"/GPU:0\", epochs=3)"
   ]
  },
  {
   "cell_type": "code",
   "execution_count": null,
   "id": "a931494c",
   "metadata": {},
   "outputs": [
    {
     "name": "stdout",
     "output_type": "stream",
     "text": [
      "Available devices: [PhysicalDevice(name='/physical_device:CPU:0', device_type='CPU'), PhysicalDevice(name='/physical_device:GPU:0', device_type='GPU')]\n"
     ]
    },
    {
     "name": "stderr",
     "output_type": "stream",
     "text": [
      "WARNING: All log messages before absl::InitializeLog() is called are written to STDERR\n",
      "I0000 00:00:1755963518.312893  322746 pluggable_device_factory.cc:305] Could not identify NUMA node of platform GPU ID 0, defaulting to 0. Your kernel may not have been built with NUMA support.\n",
      "I0000 00:00:1755963518.312918  322746 pluggable_device_factory.cc:271] Created TensorFlow device (/job:localhost/replica:0/task:0/device:GPU:0 with 0 MB memory) -> physical PluggableDevice (device: 0, name: METAL, pci bus id: <undefined>)\n",
      "/opt/homebrew/Caskroom/miniforge/base/envs/tf_numpy2/lib/python3.11/site-packages/keras/src/layers/convolutional/base_conv.py:113: UserWarning: Do not pass an `input_shape`/`input_dim` argument to a layer. When using Sequential models, prefer using an `Input(shape)` object as the first layer in the model instead.\n",
      "  super().__init__(activity_regularizer=activity_regularizer, **kwargs)\n"
     ]
    },
    {
     "name": "stdout",
     "output_type": "stream",
     "text": [
      "/CPU:0 training time: 1.27 sec\n",
      "/GPU:0 training time: 2.74 sec\n"
     ]
    }
   ],
   "source": []
  }
 ],
 "metadata": {
  "kernelspec": {
   "display_name": "Python (tf_numpy2)",
   "language": "python",
   "name": "tf_numpy2"
  },
  "language_info": {
   "codemirror_mode": {
    "name": "ipython",
    "version": 3
   },
   "file_extension": ".py",
   "mimetype": "text/x-python",
   "name": "python",
   "nbconvert_exporter": "python",
   "pygments_lexer": "ipython3",
   "version": "3.11.13"
  }
 },
 "nbformat": 4,
 "nbformat_minor": 5
}
