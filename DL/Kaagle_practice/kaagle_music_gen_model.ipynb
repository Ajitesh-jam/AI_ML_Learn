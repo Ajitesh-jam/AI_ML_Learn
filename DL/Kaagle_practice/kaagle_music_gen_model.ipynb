{
 "cells": [
  {
   "cell_type": "code",
   "execution_count": 15,
   "id": "569e9b4d",
   "metadata": {},
   "outputs": [
    {
     "name": "stdout",
     "output_type": "stream",
     "text": [
      "Requirement already satisfied: diffusers in /opt/homebrew/Caskroom/miniforge/base/envs/tf_numpy2/lib/python3.11/site-packages (0.35.0)\n",
      "Requirement already satisfied: importlib_metadata in /opt/homebrew/Caskroom/miniforge/base/envs/tf_numpy2/lib/python3.11/site-packages (from diffusers) (8.7.0)\n",
      "Requirement already satisfied: filelock in /opt/homebrew/Caskroom/miniforge/base/envs/tf_numpy2/lib/python3.11/site-packages (from diffusers) (3.19.1)\n",
      "Requirement already satisfied: huggingface-hub>=0.34.0 in /opt/homebrew/Caskroom/miniforge/base/envs/tf_numpy2/lib/python3.11/site-packages (from diffusers) (0.34.4)\n",
      "Requirement already satisfied: numpy in /opt/homebrew/Caskroom/miniforge/base/envs/tf_numpy2/lib/python3.11/site-packages (from diffusers) (2.1.3)\n",
      "Requirement already satisfied: regex!=2019.12.17 in /opt/homebrew/Caskroom/miniforge/base/envs/tf_numpy2/lib/python3.11/site-packages (from diffusers) (2025.7.34)\n",
      "Requirement already satisfied: requests in /opt/homebrew/Caskroom/miniforge/base/envs/tf_numpy2/lib/python3.11/site-packages (from diffusers) (2.32.4)\n",
      "Requirement already satisfied: safetensors>=0.3.1 in /opt/homebrew/Caskroom/miniforge/base/envs/tf_numpy2/lib/python3.11/site-packages (from diffusers) (0.6.2)\n",
      "Requirement already satisfied: Pillow in /opt/homebrew/Caskroom/miniforge/base/envs/tf_numpy2/lib/python3.11/site-packages (from diffusers) (11.3.0)\n",
      "Requirement already satisfied: fsspec>=2023.5.0 in /opt/homebrew/Caskroom/miniforge/base/envs/tf_numpy2/lib/python3.11/site-packages (from huggingface-hub>=0.34.0->diffusers) (2025.3.0)\n",
      "Requirement already satisfied: packaging>=20.9 in /opt/homebrew/Caskroom/miniforge/base/envs/tf_numpy2/lib/python3.11/site-packages (from huggingface-hub>=0.34.0->diffusers) (25.0)\n",
      "Requirement already satisfied: pyyaml>=5.1 in /opt/homebrew/Caskroom/miniforge/base/envs/tf_numpy2/lib/python3.11/site-packages (from huggingface-hub>=0.34.0->diffusers) (6.0.2)\n",
      "Requirement already satisfied: tqdm>=4.42.1 in /opt/homebrew/Caskroom/miniforge/base/envs/tf_numpy2/lib/python3.11/site-packages (from huggingface-hub>=0.34.0->diffusers) (4.67.1)\n",
      "Requirement already satisfied: typing-extensions>=3.7.4.3 in /opt/homebrew/Caskroom/miniforge/base/envs/tf_numpy2/lib/python3.11/site-packages (from huggingface-hub>=0.34.0->diffusers) (4.14.1)\n",
      "Requirement already satisfied: hf-xet<2.0.0,>=1.1.3 in /opt/homebrew/Caskroom/miniforge/base/envs/tf_numpy2/lib/python3.11/site-packages (from huggingface-hub>=0.34.0->diffusers) (1.1.8)\n",
      "Requirement already satisfied: zipp>=3.20 in /opt/homebrew/Caskroom/miniforge/base/envs/tf_numpy2/lib/python3.11/site-packages (from importlib_metadata->diffusers) (3.23.0)\n",
      "Requirement already satisfied: charset_normalizer<4,>=2 in /opt/homebrew/Caskroom/miniforge/base/envs/tf_numpy2/lib/python3.11/site-packages (from requests->diffusers) (3.4.2)\n",
      "Requirement already satisfied: idna<4,>=2.5 in /opt/homebrew/Caskroom/miniforge/base/envs/tf_numpy2/lib/python3.11/site-packages (from requests->diffusers) (3.10)\n",
      "Requirement already satisfied: urllib3<3,>=1.21.1 in /opt/homebrew/Caskroom/miniforge/base/envs/tf_numpy2/lib/python3.11/site-packages (from requests->diffusers) (2.5.0)\n",
      "Requirement already satisfied: certifi>=2017.4.17 in /opt/homebrew/Caskroom/miniforge/base/envs/tf_numpy2/lib/python3.11/site-packages (from requests->diffusers) (2025.8.3)\n",
      "Requirement already satisfied: importlib_metadata in /opt/homebrew/Caskroom/miniforge/base/envs/tf_numpy2/lib/python3.11/site-packages (from diffusers) (8.7.0)\n",
      "Requirement already satisfied: filelock in /opt/homebrew/Caskroom/miniforge/base/envs/tf_numpy2/lib/python3.11/site-packages (from diffusers) (3.19.1)\n",
      "Requirement already satisfied: huggingface-hub>=0.34.0 in /opt/homebrew/Caskroom/miniforge/base/envs/tf_numpy2/lib/python3.11/site-packages (from diffusers) (0.34.4)\n",
      "Requirement already satisfied: numpy in /opt/homebrew/Caskroom/miniforge/base/envs/tf_numpy2/lib/python3.11/site-packages (from diffusers) (2.1.3)\n",
      "Requirement already satisfied: regex!=2019.12.17 in /opt/homebrew/Caskroom/miniforge/base/envs/tf_numpy2/lib/python3.11/site-packages (from diffusers) (2025.7.34)\n",
      "Requirement already satisfied: requests in /opt/homebrew/Caskroom/miniforge/base/envs/tf_numpy2/lib/python3.11/site-packages (from diffusers) (2.32.4)\n",
      "Requirement already satisfied: safetensors>=0.3.1 in /opt/homebrew/Caskroom/miniforge/base/envs/tf_numpy2/lib/python3.11/site-packages (from diffusers) (0.6.2)\n",
      "Requirement already satisfied: Pillow in /opt/homebrew/Caskroom/miniforge/base/envs/tf_numpy2/lib/python3.11/site-packages (from diffusers) (11.3.0)\n",
      "Requirement already satisfied: fsspec>=2023.5.0 in /opt/homebrew/Caskroom/miniforge/base/envs/tf_numpy2/lib/python3.11/site-packages (from huggingface-hub>=0.34.0->diffusers) (2025.3.0)\n",
      "Requirement already satisfied: packaging>=20.9 in /opt/homebrew/Caskroom/miniforge/base/envs/tf_numpy2/lib/python3.11/site-packages (from huggingface-hub>=0.34.0->diffusers) (25.0)\n",
      "Requirement already satisfied: pyyaml>=5.1 in /opt/homebrew/Caskroom/miniforge/base/envs/tf_numpy2/lib/python3.11/site-packages (from huggingface-hub>=0.34.0->diffusers) (6.0.2)\n",
      "Requirement already satisfied: tqdm>=4.42.1 in /opt/homebrew/Caskroom/miniforge/base/envs/tf_numpy2/lib/python3.11/site-packages (from huggingface-hub>=0.34.0->diffusers) (4.67.1)\n",
      "Requirement already satisfied: typing-extensions>=3.7.4.3 in /opt/homebrew/Caskroom/miniforge/base/envs/tf_numpy2/lib/python3.11/site-packages (from huggingface-hub>=0.34.0->diffusers) (4.14.1)\n",
      "Requirement already satisfied: hf-xet<2.0.0,>=1.1.3 in /opt/homebrew/Caskroom/miniforge/base/envs/tf_numpy2/lib/python3.11/site-packages (from huggingface-hub>=0.34.0->diffusers) (1.1.8)\n",
      "Requirement already satisfied: zipp>=3.20 in /opt/homebrew/Caskroom/miniforge/base/envs/tf_numpy2/lib/python3.11/site-packages (from importlib_metadata->diffusers) (3.23.0)\n",
      "Requirement already satisfied: charset_normalizer<4,>=2 in /opt/homebrew/Caskroom/miniforge/base/envs/tf_numpy2/lib/python3.11/site-packages (from requests->diffusers) (3.4.2)\n",
      "Requirement already satisfied: idna<4,>=2.5 in /opt/homebrew/Caskroom/miniforge/base/envs/tf_numpy2/lib/python3.11/site-packages (from requests->diffusers) (3.10)\n",
      "Requirement already satisfied: urllib3<3,>=1.21.1 in /opt/homebrew/Caskroom/miniforge/base/envs/tf_numpy2/lib/python3.11/site-packages (from requests->diffusers) (2.5.0)\n",
      "Requirement already satisfied: certifi>=2017.4.17 in /opt/homebrew/Caskroom/miniforge/base/envs/tf_numpy2/lib/python3.11/site-packages (from requests->diffusers) (2025.8.3)\n",
      "Note: you may need to restart the kernel to use updated packages.\n",
      "Note: you may need to restart the kernel to use updated packages.\n"
     ]
    },
    {
     "ename": "ImportError",
     "evalue": "cannot import name 'DEFAULT_HF_PARALLEL_LOADING_WORKERS' from 'diffusers.utils.constants' (/opt/homebrew/Caskroom/miniforge/base/envs/tf_numpy2/lib/python3.11/site-packages/diffusers/utils/constants.py)",
     "output_type": "error",
     "traceback": [
      "\u001b[31m---------------------------------------------------------------------------\u001b[39m",
      "\u001b[31mImportError\u001b[39m                               Traceback (most recent call last)",
      "\u001b[36mCell\u001b[39m\u001b[36m \u001b[39m\u001b[32mIn[15]\u001b[39m\u001b[32m, line 3\u001b[39m\n\u001b[32m      1\u001b[39m get_ipython().run_line_magic(\u001b[33m'\u001b[39m\u001b[33mpip\u001b[39m\u001b[33m'\u001b[39m, \u001b[33m'\u001b[39m\u001b[33minstall --upgrade diffusers\u001b[39m\u001b[33m'\u001b[39m)\n\u001b[32m----> \u001b[39m\u001b[32m3\u001b[39m \u001b[38;5;28;01mfrom\u001b[39;00m\u001b[38;5;250m \u001b[39m\u001b[34;01mdiffusers\u001b[39;00m\u001b[38;5;250m \u001b[39m\u001b[38;5;28;01mimport\u001b[39;00m AudioLDM2Pipeline\n\u001b[32m      4\u001b[39m \u001b[38;5;28;01mimport\u001b[39;00m\u001b[38;5;250m \u001b[39m\u001b[34;01mtorch\u001b[39;00m\n\u001b[32m      6\u001b[39m repo_id = \u001b[33m\"\u001b[39m\u001b[33mcvssp/audioldm2-music\u001b[39m\u001b[33m\"\u001b[39m\n",
      "\u001b[36mFile \u001b[39m\u001b[32m/opt/homebrew/Caskroom/miniforge/base/envs/tf_numpy2/lib/python3.11/site-packages/diffusers/__init__.py:5\u001b[39m\n\u001b[32m      1\u001b[39m __version__ = \u001b[33m\"\u001b[39m\u001b[33m0.35.0\u001b[39m\u001b[33m\"\u001b[39m\n\u001b[32m      3\u001b[39m \u001b[38;5;28;01mfrom\u001b[39;00m\u001b[38;5;250m \u001b[39m\u001b[34;01mtyping\u001b[39;00m\u001b[38;5;250m \u001b[39m\u001b[38;5;28;01mimport\u001b[39;00m TYPE_CHECKING\n\u001b[32m----> \u001b[39m\u001b[32m5\u001b[39m \u001b[38;5;28;01mfrom\u001b[39;00m\u001b[38;5;250m \u001b[39m\u001b[34;01m.\u001b[39;00m\u001b[34;01mutils\u001b[39;00m\u001b[38;5;250m \u001b[39m\u001b[38;5;28;01mimport\u001b[39;00m (\n\u001b[32m      6\u001b[39m     DIFFUSERS_SLOW_IMPORT,\n\u001b[32m      7\u001b[39m     OptionalDependencyNotAvailable,\n\u001b[32m      8\u001b[39m     _LazyModule,\n\u001b[32m      9\u001b[39m     is_accelerate_available,\n\u001b[32m     10\u001b[39m     is_bitsandbytes_available,\n\u001b[32m     11\u001b[39m     is_flax_available,\n\u001b[32m     12\u001b[39m     is_gguf_available,\n\u001b[32m     13\u001b[39m     is_k_diffusion_available,\n\u001b[32m     14\u001b[39m     is_librosa_available,\n\u001b[32m     15\u001b[39m     is_note_seq_available,\n\u001b[32m     16\u001b[39m     is_onnx_available,\n\u001b[32m     17\u001b[39m     is_opencv_available,\n\u001b[32m     18\u001b[39m     is_optimum_quanto_available,\n\u001b[32m     19\u001b[39m     is_scipy_available,\n\u001b[32m     20\u001b[39m     is_sentencepiece_available,\n\u001b[32m     21\u001b[39m     is_torch_available,\n\u001b[32m     22\u001b[39m     is_torchao_available,\n\u001b[32m     23\u001b[39m     is_torchsde_available,\n\u001b[32m     24\u001b[39m     is_transformers_available,\n\u001b[32m     25\u001b[39m )\n\u001b[32m     28\u001b[39m \u001b[38;5;66;03m# Lazy Import based on\u001b[39;00m\n\u001b[32m     29\u001b[39m \u001b[38;5;66;03m# https://github.com/huggingface/transformers/blob/main/src/transformers/__init__.py\u001b[39;00m\n\u001b[32m     30\u001b[39m \n\u001b[32m     31\u001b[39m \u001b[38;5;66;03m# When adding a new object to this init, please add it to `_import_structure`. The `_import_structure` is a dictionary submodule to list of object names,\u001b[39;00m\n\u001b[32m     32\u001b[39m \u001b[38;5;66;03m# and is used to defer the actual importing for when the objects are requested.\u001b[39;00m\n\u001b[32m     33\u001b[39m \u001b[38;5;66;03m# This way `import diffusers` provides the names in the namespace without actually importing anything (and especially none of the backends).\u001b[39;00m\n\u001b[32m     35\u001b[39m _import_structure = {\n\u001b[32m     36\u001b[39m     \u001b[33m\"\u001b[39m\u001b[33mconfiguration_utils\u001b[39m\u001b[33m\"\u001b[39m: [\u001b[33m\"\u001b[39m\u001b[33mConfigMixin\u001b[39m\u001b[33m\"\u001b[39m],\n\u001b[32m     37\u001b[39m     \u001b[33m\"\u001b[39m\u001b[33mguiders\u001b[39m\u001b[33m\"\u001b[39m: [],\n\u001b[32m   (...)\u001b[39m\u001b[32m     63\u001b[39m     ],\n\u001b[32m     64\u001b[39m }\n",
      "\u001b[36mFile \u001b[39m\u001b[32m/opt/homebrew/Caskroom/miniforge/base/envs/tf_numpy2/lib/python3.11/site-packages/diffusers/utils/__init__.py:21\u001b[39m\n\u001b[32m     18\u001b[39m \u001b[38;5;28;01mfrom\u001b[39;00m\u001b[38;5;250m \u001b[39m\u001b[34;01mpackaging\u001b[39;00m\u001b[38;5;250m \u001b[39m\u001b[38;5;28;01mimport\u001b[39;00m version\n\u001b[32m     20\u001b[39m \u001b[38;5;28;01mfrom\u001b[39;00m\u001b[38;5;250m \u001b[39m\u001b[34;01m.\u001b[39;00m\u001b[34;01m.\u001b[39;00m\u001b[38;5;250m \u001b[39m\u001b[38;5;28;01mimport\u001b[39;00m __version__\n\u001b[32m---> \u001b[39m\u001b[32m21\u001b[39m \u001b[38;5;28;01mfrom\u001b[39;00m\u001b[38;5;250m \u001b[39m\u001b[34;01m.\u001b[39;00m\u001b[34;01mconstants\u001b[39;00m\u001b[38;5;250m \u001b[39m\u001b[38;5;28;01mimport\u001b[39;00m (\n\u001b[32m     22\u001b[39m     CONFIG_NAME,\n\u001b[32m     23\u001b[39m     DEFAULT_HF_PARALLEL_LOADING_WORKERS,\n\u001b[32m     24\u001b[39m     DEPRECATED_REVISION_ARGS,\n\u001b[32m     25\u001b[39m     DIFFUSERS_DYNAMIC_MODULE_NAME,\n\u001b[32m     26\u001b[39m     FLAX_WEIGHTS_NAME,\n\u001b[32m     27\u001b[39m     GGUF_FILE_EXTENSION,\n\u001b[32m     28\u001b[39m     HF_ENABLE_PARALLEL_LOADING,\n\u001b[32m     29\u001b[39m     HF_MODULES_CACHE,\n\u001b[32m     30\u001b[39m     HUGGINGFACE_CO_RESOLVE_ENDPOINT,\n\u001b[32m     31\u001b[39m     MIN_PEFT_VERSION,\n\u001b[32m     32\u001b[39m     ONNX_EXTERNAL_WEIGHTS_NAME,\n\u001b[32m     33\u001b[39m     ONNX_WEIGHTS_NAME,\n\u001b[32m     34\u001b[39m     SAFE_WEIGHTS_INDEX_NAME,\n\u001b[32m     35\u001b[39m     SAFETENSORS_FILE_EXTENSION,\n\u001b[32m     36\u001b[39m     SAFETENSORS_WEIGHTS_NAME,\n\u001b[32m     37\u001b[39m     USE_PEFT_BACKEND,\n\u001b[32m     38\u001b[39m     WEIGHTS_INDEX_NAME,\n\u001b[32m     39\u001b[39m     WEIGHTS_NAME,\n\u001b[32m     40\u001b[39m )\n\u001b[32m     41\u001b[39m \u001b[38;5;28;01mfrom\u001b[39;00m\u001b[38;5;250m \u001b[39m\u001b[34;01m.\u001b[39;00m\u001b[34;01mdeprecation_utils\u001b[39;00m\u001b[38;5;250m \u001b[39m\u001b[38;5;28;01mimport\u001b[39;00m deprecate\n\u001b[32m     42\u001b[39m \u001b[38;5;28;01mfrom\u001b[39;00m\u001b[38;5;250m \u001b[39m\u001b[34;01m.\u001b[39;00m\u001b[34;01mdoc_utils\u001b[39;00m\u001b[38;5;250m \u001b[39m\u001b[38;5;28;01mimport\u001b[39;00m replace_example_docstring\n",
      "\u001b[31mImportError\u001b[39m: cannot import name 'DEFAULT_HF_PARALLEL_LOADING_WORKERS' from 'diffusers.utils.constants' (/opt/homebrew/Caskroom/miniforge/base/envs/tf_numpy2/lib/python3.11/site-packages/diffusers/utils/constants.py)"
     ]
    }
   ],
   "source": [
    "%pip install --upgrade diffusers\n",
    "\n",
    "from diffusers import AudioLDM2Pipeline\n",
    "import torch\n",
    "\n",
    "repo_id = \"cvssp/audioldm2-music\"\n",
    "pipe = AudioLDM2Pipeline.from_pretrained(repo_id, torch_dtype=torch.float16)\n",
    "pipe = pipe.to(\"cuda\")\n",
    "\n",
    "prompt = \"rain sound\"\n",
    "audio = pipe(prompt, num_inference_steps=200, audio_length_in_s=10.0).audios[0]\n"
   ]
  },
  {
   "cell_type": "code",
   "execution_count": null,
   "id": "d40ef154",
   "metadata": {},
   "outputs": [],
   "source": [
    "import scipy\n",
    "\n",
    "scipy.io.wavfile.write(\"techno.wav\", rate=16000, data=audio)\n",
    "from IPython.display import Audio\n",
    "\n",
    "Audio(audio, rate=16000)\n",
    "\n"
   ]
  },
  {
   "cell_type": "code",
   "execution_count": null,
   "id": "76aa0f82",
   "metadata": {},
   "outputs": [],
   "source": []
  }
 ],
 "metadata": {
  "language_info": {
   "name": "python"
  }
 },
 "nbformat": 4,
 "nbformat_minor": 5
}
