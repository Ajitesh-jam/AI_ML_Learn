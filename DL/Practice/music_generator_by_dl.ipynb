{
 "cells": [
  {
   "cell_type": "markdown",
   "id": "ee7af77a",
   "metadata": {},
   "source": [
    "# will make a music geenerator by DL.....like giving different notes of music of different classes like ( rain , dog bark , walking ,etc ) will generate a model which like on given input ( 1st draft -> a word 2nd Draft -> a sentence 3rd draft -> a paragraph) will generate a music of that class\n"
   ]
  },
  {
   "cell_type": "code",
   "execution_count": null,
   "id": "fcd76d75",
   "metadata": {},
   "outputs": [],
   "source": [
    "#will use librosa library to learn music generation by deep learning"
   ]
  },
  {
   "cell_type": "code",
   "execution_count": null,
   "id": "ca536431",
   "metadata": {},
   "outputs": [],
   "source": []
  }
 ],
 "metadata": {
  "kernelspec": {
   "display_name": ".venv (3.13.5)",
   "language": "python",
   "name": "python3"
  },
  "language_info": {
   "name": "python",
   "version": "3.13.5"
  }
 },
 "nbformat": 4,
 "nbformat_minor": 5
}
